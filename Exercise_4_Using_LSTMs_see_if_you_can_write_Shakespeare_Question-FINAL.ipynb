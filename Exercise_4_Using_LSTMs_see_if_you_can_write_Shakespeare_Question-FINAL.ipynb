{
 "cells": [
  {
   "cell_type": "code",
   "execution_count": 1,
   "metadata": {
    "colab": {},
    "colab_type": "code",
    "id": "BOwsuGQQY9OL"
   },
   "outputs": [],
   "source": [
    "# ATTENTION: Please do not alter any of the provided code in the exercise. Only add your own code where indicated\n",
    "# ATTENTION: Please do not add or remove any cells in the exercise. The grader will check specific cells based on the cell position.\n",
    "# ATTENTION: Please use the provided epoch values when training.\n",
    "\n",
    "from tensorflow.keras.preprocessing.sequence import pad_sequences\n",
    "from tensorflow.keras.layers import Embedding, LSTM, Dense, Dropout, Bidirectional\n",
    "from tensorflow.keras.preprocessing.text import Tokenizer\n",
    "from tensorflow.keras.models import Sequential\n",
    "from tensorflow.keras.optimizers import Adam\n",
    "from os import getcwd\n",
    "### YOUR CODE HERE\n",
    "# Figure out how to import regularizers\n",
    "###\n",
    "from tensorflow.keras import regularizers\n",
    "import tensorflow.keras.utils as ku \n",
    "import numpy as np "
   ]
  },
  {
   "cell_type": "code",
   "execution_count": 2,
   "metadata": {
    "colab": {},
    "colab_type": "code",
    "id": "PRnDnCW-Z7qv"
   },
   "outputs": [],
   "source": [
    "tokenizer = Tokenizer()\n",
    "path_sonnets = f\"{getcwd()}/../tmp2/sonnets.txt\"\n",
    "data = open(path_sonnets).read()\n",
    "\n",
    "corpus = data.lower().split(\"\\n\")\n",
    "\n",
    "\n",
    "tokenizer.fit_on_texts(corpus)\n",
    "total_words = len(tokenizer.word_index) + 1\n",
    "\n",
    "# create input sequences using list of tokens\n",
    "input_sequences = []\n",
    "for line in corpus:\n",
    "\ttoken_list = tokenizer.texts_to_sequences([line])[0]\n",
    "\tfor i in range(1, len(token_list)):\n",
    "\t\tn_gram_sequence = token_list[:i+1]\n",
    "\t\tinput_sequences.append(n_gram_sequence)\n",
    "\n",
    "\n",
    "# pad sequences \n",
    "max_sequence_len = max([len(x) for x in input_sequences])\n",
    "input_sequences = np.array(pad_sequences(input_sequences, maxlen=max_sequence_len, padding='pre'))\n",
    "\n",
    "# create predictors and label\n",
    "predictors, label = input_sequences[:,:-1],input_sequences[:,-1]\n",
    "\n",
    "label = ku.to_categorical(label, num_classes=total_words)"
   ]
  },
  {
   "cell_type": "code",
   "execution_count": 9,
   "metadata": {
    "colab": {},
    "colab_type": "code",
    "id": "w9vH8Y59ajYL"
   },
   "outputs": [
    {
     "name": "stdout",
     "output_type": "stream",
     "text": [
      "Model: \"sequential_2\"\n",
      "_________________________________________________________________\n",
      "Layer (type)                 Output Shape              Param #   \n",
      "=================================================================\n",
      "embedding_2 (Embedding)      (None, 10, 100)           321100    \n",
      "_________________________________________________________________\n",
      "bidirectional_2 (Bidirection (None, 10, 300)           301200    \n",
      "_________________________________________________________________\n",
      "dropout_2 (Dropout)          (None, 10, 300)           0         \n",
      "_________________________________________________________________\n",
      "lstm_5 (LSTM)                (None, 100)               160400    \n",
      "_________________________________________________________________\n",
      "dense_3 (Dense)              (None, 1605)              162105    \n",
      "_________________________________________________________________\n",
      "dense_4 (Dense)              (None, 3211)              5156866   \n",
      "=================================================================\n",
      "Total params: 6,101,671\n",
      "Trainable params: 6,101,671\n",
      "Non-trainable params: 0\n",
      "_________________________________________________________________\n",
      "None\n"
     ]
    }
   ],
   "source": [
    "model = Sequential()\n",
    "model.add(Embedding(total_words, 100, input_length = max_sequence_len-1)) # Your Embedding Layer\n",
    "model.add(Bidirectional(LSTM(150, return_sequences = True))) # An LSTM Layer\n",
    "model.add(Dropout(0.2)) # A dropout layer\n",
    "model.add(LSTM(100)) # Another LSTM Layer\n",
    "model.add(Dense(total_words/2, activation = 'relu', kernel_regularizer = regularizers.l2(0.01))) # A Dense Layer including regularizers\n",
    "model.add(Dense(total_words, activation = 'softmax')) # A Dense Layer\n",
    "# Pick an optimizer\n",
    "model.compile(loss = 'categorical_crossentropy', optimizer = 'adam', metrics = ['accuracy']) # Pick a loss function and an optimizer\n",
    "print(model.summary())\n"
   ]
  },
  {
   "cell_type": "code",
   "execution_count": 10,
   "metadata": {
    "colab": {},
    "colab_type": "code",
    "id": "AIg2f1HBxqof"
   },
   "outputs": [
    {
     "name": "stdout",
     "output_type": "stream",
     "text": [
      "Train on 15462 samples\n",
      "Epoch 1/50\n",
      "15462/15462 [==============================] - 23s 2ms/sample - loss: 7.3369 - accuracy: 0.0200\n",
      "Epoch 2/50\n",
      "15462/15462 [==============================] - 9s 563us/sample - loss: 6.5533 - accuracy: 0.0219\n",
      "Epoch 3/50\n",
      "15462/15462 [==============================] - 8s 543us/sample - loss: 6.4584 - accuracy: 0.0227\n",
      "Epoch 4/50\n",
      "15462/15462 [==============================] - 9s 556us/sample - loss: 6.3931 - accuracy: 0.0283\n",
      "Epoch 5/50\n",
      "15462/15462 [==============================] - 9s 576us/sample - loss: 6.2910 - accuracy: 0.0327\n",
      "Epoch 6/50\n",
      "15462/15462 [==============================] - 10s 621us/sample - loss: 6.2107 - accuracy: 0.0354\n",
      "Epoch 7/50\n",
      "15462/15462 [==============================] - 9s 608us/sample - loss: 6.1424 - accuracy: 0.0383\n",
      "Epoch 8/50\n",
      "15462/15462 [==============================] - 18s 1ms/sample - loss: 6.0774 - accuracy: 0.0405\n",
      "Epoch 9/50\n",
      "15462/15462 [==============================] - 17s 1ms/sample - loss: 6.0151 - accuracy: 0.0443\n",
      "Epoch 10/50\n",
      "15462/15462 [==============================] - 13s 835us/sample - loss: 5.9391 - accuracy: 0.0474\n",
      "Epoch 11/50\n",
      "15462/15462 [==============================] - 15s 976us/sample - loss: 5.8664 - accuracy: 0.0498\n",
      "Epoch 12/50\n",
      "15462/15462 [==============================] - 14s 886us/sample - loss: 5.7932 - accuracy: 0.0522\n",
      "Epoch 13/50\n",
      "15462/15462 [==============================] - 13s 854us/sample - loss: 5.7191 - accuracy: 0.0547\n",
      "Epoch 14/50\n",
      "15462/15462 [==============================] - 15s 938us/sample - loss: 5.6404 - accuracy: 0.0589\n",
      "Epoch 15/50\n",
      "15462/15462 [==============================] - 10s 665us/sample - loss: 5.5598 - accuracy: 0.0606\n",
      "Epoch 16/50\n",
      "15462/15462 [==============================] - 9s 570us/sample - loss: 5.4737 - accuracy: 0.0643\n",
      "Epoch 17/50\n",
      "15462/15462 [==============================] - 10s 626us/sample - loss: 5.3948 - accuracy: 0.0695\n",
      "Epoch 18/50\n",
      "15462/15462 [==============================] - 9s 550us/sample - loss: 5.3156 - accuracy: 0.0734\n",
      "Epoch 19/50\n",
      "15462/15462 [==============================] - 9s 550us/sample - loss: 5.2302 - accuracy: 0.0794\n",
      "Epoch 20/50\n",
      "15462/15462 [==============================] - 8s 530us/sample - loss: 5.1573 - accuracy: 0.0830\n",
      "Epoch 21/50\n",
      "15462/15462 [==============================] - 8s 531us/sample - loss: 5.0827 - accuracy: 0.0885\n",
      "Epoch 22/50\n",
      "15462/15462 [==============================] - 9s 588us/sample - loss: 4.9999 - accuracy: 0.0927\n",
      "Epoch 23/50\n",
      "15462/15462 [==============================] - 9s 570us/sample - loss: 4.9287 - accuracy: 0.0977\n",
      "Epoch 24/50\n",
      "15462/15462 [==============================] - 8s 544us/sample - loss: 4.8545 - accuracy: 0.1030\n",
      "Epoch 25/50\n",
      "15462/15462 [==============================] - 8s 530us/sample - loss: 4.7867 - accuracy: 0.1064\n",
      "Epoch 26/50\n",
      "15462/15462 [==============================] - 8s 530us/sample - loss: 4.7099 - accuracy: 0.1133\n",
      "Epoch 27/50\n",
      "15462/15462 [==============================] - 8s 517us/sample - loss: 4.6378 - accuracy: 0.1204\n",
      "Epoch 28/50\n",
      "15462/15462 [==============================] - 8s 549us/sample - loss: 4.5648 - accuracy: 0.1260\n",
      "Epoch 29/50\n",
      "15462/15462 [==============================] - 8s 531us/sample - loss: 4.4966 - accuracy: 0.1340\n",
      "Epoch 30/50\n",
      "15462/15462 [==============================] - 8s 505us/sample - loss: 4.4338 - accuracy: 0.1407\n",
      "Epoch 31/50\n",
      "15462/15462 [==============================] - 8s 511us/sample - loss: 4.3521 - accuracy: 0.1504\n",
      "Epoch 32/50\n",
      "15462/15462 [==============================] - 8s 523us/sample - loss: 4.2822 - accuracy: 0.1564\n",
      "Epoch 33/50\n",
      "15462/15462 [==============================] - 9s 596us/sample - loss: 4.2204 - accuracy: 0.1680\n",
      "Epoch 34/50\n",
      "15462/15462 [==============================] - 9s 583us/sample - loss: 4.1495 - accuracy: 0.1777\n",
      "Epoch 35/50\n",
      "15462/15462 [==============================] - 9s 550us/sample - loss: 4.0804 - accuracy: 0.1899\n",
      "Epoch 36/50\n",
      "15462/15462 [==============================] - 8s 530us/sample - loss: 4.0155 - accuracy: 0.2022\n",
      "Epoch 37/50\n",
      "15462/15462 [==============================] - 8s 549us/sample - loss: 3.9480 - accuracy: 0.2141\n",
      "Epoch 38/50\n",
      "15462/15462 [==============================] - 9s 608us/sample - loss: 3.8888 - accuracy: 0.2223\n",
      "Epoch 39/50\n",
      "15462/15462 [==============================] - 8s 543us/sample - loss: 3.8159 - accuracy: 0.2348\n",
      "Epoch 40/50\n",
      "15462/15462 [==============================] - 8s 544us/sample - loss: 3.7584 - accuracy: 0.2485\n",
      "Epoch 41/50\n",
      "15462/15462 [==============================] - 8s 537us/sample - loss: 3.6897 - accuracy: 0.2626\n",
      "Epoch 42/50\n",
      "15462/15462 [==============================] - 8s 537us/sample - loss: 3.6362 - accuracy: 0.2707\n",
      "Epoch 43/50\n",
      "15462/15462 [==============================] - 8s 524us/sample - loss: 3.5827 - accuracy: 0.2835\n",
      "Epoch 44/50\n",
      "15462/15462 [==============================] - 8s 518us/sample - loss: 3.5216 - accuracy: 0.2997\n",
      "Epoch 45/50\n",
      "15462/15462 [==============================] - 8s 512us/sample - loss: 3.4604 - accuracy: 0.3118\n",
      "Epoch 46/50\n",
      "15462/15462 [==============================] - 8s 536us/sample - loss: 3.4052 - accuracy: 0.3258\n",
      "Epoch 47/50\n",
      "15462/15462 [==============================] - 10s 641us/sample - loss: 3.3485 - accuracy: 0.3335\n",
      "Epoch 48/50\n",
      "15462/15462 [==============================] - 11s 717us/sample - loss: 3.2909 - accuracy: 0.3494\n",
      "Epoch 49/50\n",
      "15462/15462 [==============================] - 13s 861us/sample - loss: 3.2409 - accuracy: 0.3584\n",
      "Epoch 50/50\n",
      "15462/15462 [==============================] - 19s 1ms/sample - loss: 3.1813 - accuracy: 0.3738\n"
     ]
    }
   ],
   "source": [
    " history = model.fit(predictors, label, epochs=50, batch_size=128, verbose=1)"
   ]
  },
  {
   "cell_type": "code",
   "execution_count": 11,
   "metadata": {
    "colab": {},
    "colab_type": "code",
    "id": "1fXTEO3GJ282"
   },
   "outputs": [
    {
     "data": {
      "image/png": "[encoded data removed]",
      "text/plain": [
       "<Figure size 432x288 with 1 Axes>"
      ]
     },
     "metadata": {
      "needs_background": "light"
     },
     "output_type": "display_data"
    },
    {
     "data": {
      "image/png": "[encoded data removed]",
      "text/plain": [
       "<Figure size 432x288 with 1 Axes>"
      ]
     },
     "metadata": {
      "needs_background": "light"
     },
     "output_type": "display_data"
    }
   ],
   "source": [
    "%matplotlib inline\n",
    "import matplotlib.pyplot as plt\n",
    "acc = history.history['accuracy']\n",
    "loss = history.history['loss']\n",
    "\n",
    "epochs = range(len(acc))\n",
    "\n",
    "plt.plot(epochs, acc, 'b', label='Training accuracy')\n",
    "plt.title('Training accuracy')\n",
    "\n",
    "plt.figure()\n",
    "\n",
    "plt.plot(epochs, loss, 'b', label='Training Loss')\n",
    "plt.title('Training loss')\n",
    "plt.legend()\n",
    "\n",
    "plt.show()"
   ]
  },
  {
   "cell_type": "code",
   "execution_count": 12,
   "metadata": {
    "colab": {},
    "colab_type": "code",
    "id": "6Vc6PHgxa6Hm"
   },
   "outputs": [
    {
     "name": "stdout",
     "output_type": "stream",
     "text": [
      "Help me Obi Wan Kenobi, you're my only hope of be beloved of rolling forth rolling forth men about ' dyed dyed light dyed dyed dyed dyed ride seen mistaking heart torn torn torn torn torn torn torn torn dyed dyed dyed light dyed torn torn dyed torn told live men about about light light prove me up men tongue hits friend ' still days seen chase thee mistaking mistaking seen mistaking brow leaves grew torn torn dyed torn torn torn dyed torn torn told go days light light light dyed still rare still ' me days more deem'd deem'd slain seen mistaking lie so sweet days ' open\n"
     ]
    }
   ],
   "source": [
    "seed_text = \"Help me Obi Wan Kenobi, you're my only hope\"\n",
    "next_words = 100\n",
    "  \n",
    "for _ in range(next_words):\n",
    "\ttoken_list = tokenizer.texts_to_sequences([seed_text])[0]\n",
    "\ttoken_list = pad_sequences([token_list], maxlen=max_sequence_len-1, padding='pre')\n",
    "\tpredicted = model.predict_classes(token_list, verbose=0)\n",
    "\toutput_word = \"\"\n",
    "\tfor word, index in tokenizer.word_index.items():\n",
    "\t\tif index == predicted:\n",
    "\t\t\toutput_word = word\n",
    "\t\t\tbreak\n",
    "\tseed_text += \" \" + output_word\n",
    "print(seed_text)"
   ]
  },
  {
   "cell_type": "code",
   "execution_count": 13,
   "metadata": {},
   "outputs": [],
   "source": [
    "# Now click the 'Submit Assignment' button above.\n",
    "# Once that is complete, please run the following two cells to save your work and close the notebook"
   ]
  },
  {
   "cell_type": "code",
   "execution_count": null,
   "metadata": {},
   "outputs": [],
   "source": [
    "%%javascript\n",
    "<!-- Save the notebook -->\n",
    "IPython.notebook.save_checkpoint();"
   ]
  },
  {
   "cell_type": "code",
   "execution_count": null,
   "metadata": {},
   "outputs": [],
   "source": [
    "%%javascript\n",
    "IPython.notebook.session.delete();\n",
    "window.onbeforeunload = null\n",
    "setTimeout(function() { window.close(); }, 1000);"
   ]
  }
 ],
 "metadata": {
  "accelerator": "GPU",
  "colab": {
   "name": "NLP-Week4-Exercise-Shakespeare-Question.ipynb",
   "provenance": []
  },
  "coursera": {
   "course_slug": "natural-language-processing-tensorflow",
   "graded_item_id": "zLi5k",
   "launcher_item_id": "qRKzU"
  },
  "kernelspec": {
   "display_name": "Python 3",
   "language": "python",
   "name": "python3"
  },
  "language_info": {
   "codemirror_mode": {
    "name": "ipython",
    "version": 3
   },
   "file_extension": ".py",
   "mimetype": "text/x-python",
   "name": "python",
   "nbconvert_exporter": "python",
   "pygments_lexer": "ipython3",
   "version": "3.7.6"
  }
 },
 "nbformat": 4,
 "nbformat_minor": 1
}
